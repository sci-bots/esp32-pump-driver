{
 "cells": [
  {
   "cell_type": "code",
   "execution_count": null,
   "metadata": {},
   "outputs": [],
   "source": [
    "%connect --wait 10 COM17"
   ]
  },
  {
   "cell_type": "code",
   "execution_count": null,
   "metadata": {},
   "outputs": [],
   "source": [
    "%local\n",
    "import os\n",
    "\n",
    "if not os.path.isdir('app'):\n",
    "    os.chdir('../')\n",
    "os.getcwd()"
   ]
  },
  {
   "cell_type": "code",
   "execution_count": null,
   "metadata": {},
   "outputs": [],
   "source": [
    "import os\n",
    "\n",
    "try:\n",
    "    os.mkdir('/app')\n",
    "except OSError:\n",
    "    pass\n",
    "\n",
    "# Copy `util` script containing `copytree`.\n",
    "for name in ('/boot.py', '/app/util.py'):\n",
    "    with open('/remote' + name, 'r') as input_:\n",
    "        with open(name, 'w') as output:\n",
    "            while True:\n",
    "                data = input_.read(1024)\n",
    "                if not data:\n",
    "                    break\n",
    "                output.write(data)\n",
    "\n",
    "import util\n",
    "import gc\n",
    "\n",
    "# Copy third-party libraries\n",
    "util.copytree('/remote/lib', '/lib')\n",
    "# Copy project sub-modules\n",
    "util.copytree('/remote/app', '/app')\n",
    "gc.collect()\n",
    "print(gc.mem_free())\n",
    "\n",
    "import machine\n",
    "\n",
    "machine.reset()"
   ]
  },
  {
   "cell_type": "code",
   "execution_count": null,
   "metadata": {},
   "outputs": [],
   "source": [
    "%disconnect"
   ]
  }
 ],
 "metadata": {
  "kernelspec": {
   "display_name": "MicroPython Remote",
   "language": "micropython",
   "name": "micropython"
  },
  "language_info": {
   "codemirror_mode": "python",
   "file_extension": ".py",
   "mimetype": "text/python",
   "name": "micropython"
  }
 },
 "nbformat": 4,
 "nbformat_minor": 4
}
